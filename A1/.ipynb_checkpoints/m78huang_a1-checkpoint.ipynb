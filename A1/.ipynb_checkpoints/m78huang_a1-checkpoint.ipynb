{
 "cells": [
  {
   "cell_type": "markdown",
   "metadata": {},
   "source": [
    "# A1"
   ]
  },
  {
   "cell_type": "code",
   "execution_count": 1,
   "metadata": {
    "code_folding": []
   },
   "outputs": [],
   "source": [
    "# Standard imports\n",
    "import numpy as np\n",
    "import math\n",
    "import matplotlib.pyplot as plt\n",
    "%matplotlib inline"
   ]
  },
  {
   "cell_type": "markdown",
   "metadata": {},
   "source": [
    "### Some solutions (optional)"
   ]
  },
  {
   "cell_type": "code",
   "execution_count": 2,
   "metadata": {},
   "outputs": [],
   "source": [
    "# RUN THIS CELL ONLY IF YOU WANT TO USE THE SOLUTIONS THROUGHOUT\n",
    "from a1_solutions import *"
   ]
  },
  {
   "cell_type": "code",
   "execution_count": 3,
   "metadata": {},
   "outputs": [],
   "source": [
    "# Run this cell if you want to be able to run functions from the solutions, like this...\n",
    "# lif_a = solutions.LIFNeuron()\n",
    "import a1_solutions as solutions"
   ]
  },
  {
   "cell_type": "markdown",
   "metadata": {},
   "source": [
    "## Some supplied helper functions"
   ]
  },
  {
   "cell_type": "code",
   "execution_count": 4,
   "metadata": {
    "code_folding": []
   },
   "outputs": [],
   "source": [
    "def PlotSpikeRaster(st, y_range=[0, 1.]):\n",
    "    '''\n",
    "    PlotSpikeRaster(spiketimes, y_range=[0, 1.])\n",
    "\n",
    "    Plots a spike raster plot for a list of arrays of spike times.\n",
    "\n",
    "    Input:\n",
    "      spiketimes is a list of arrays of spike times, like that returned\n",
    "          by the function Stim2Spikes.\n",
    "      y_range is a 2-tuple that holds the y-values that the raster ticks\n",
    "          should be drawn between\n",
    "    '''\n",
    "    N = len(st)  # number of neurons\n",
    "\n",
    "    #levels = np.linspace(y_range[0], y_range[1], N+1, endpoint=True)\n",
    "    levels = np.linspace(y_range[1], y_range[0], N+1, endpoint=True)\n",
    "    for n in range(N):\n",
    "        nspikes = len(st[n])\n",
    "        #y = [ [levels[n]]*nspikes , [levels[n+1]]*nspikes ]\n",
    "        y = [ [levels[n+1]]*nspikes , [levels[n]]*nspikes ]\n",
    "        #y = y_range[0] + [levels[n]]*nspikes\n",
    "        plt.plot(np.vstack((st[n],st[n])), y, color=np.random.rand(3))\n",
    "    plt.ylim(y_range)\n",
    "    plt.xlabel('Time (s)')\n",
    "    return\n",
    "\n",
    "\n",
    "def GenerateSpikeTrain(rates, T, jitter=0.):\n",
    "    '''\n",
    "    spike_times = GenerateSpikeTrain(rates, T)\n",
    "    \n",
    "    Creates a spike train (as an array of time stamps).\n",
    "    \n",
    "    Input:\n",
    "    rates is an array or list of firing rates (in Hz), one\n",
    "        firing rate for each interval.\n",
    "    T is an array or list (the same size as 'rates') that gives\n",
    "        the time to end each interval\n",
    "    jitter is a scalar that determines how much the spikes\n",
    "        are randomly moved\n",
    "        \n",
    "    Output:\n",
    "    spike_times is an array of times when spikes occurred\n",
    "    \n",
    "    Example: To create a spike train of 10Hz for 0.5s, followed\n",
    "             by 25Hz that starts at 0.5s and ends at 2s, use\n",
    "             \n",
    "               GenerateSpikeTrain([10, 25], [0.5, 2])\n",
    "    '''\n",
    "    s = []\n",
    "    t = 0.\n",
    "    for idx in range(0,len(rates)):\n",
    "        Trange = T[idx] - t\n",
    "        if rates[idx]!=0:\n",
    "            delta = 1. / rates[idx]\n",
    "            N = rates[idx] * Trange\n",
    "            times = np.arange(t+delta/2., T[idx], delta)\n",
    "            times += np.random.normal(scale=delta*jitter, size=np.shape(times))\n",
    "            s.extend(times)\n",
    "        t = T[idx]\n",
    "    s.sort()\n",
    "    return np.array(s)\n",
    "\n",
    "\n",
    "class InputNeuron(object):\n",
    "    \n",
    "    def __init__(self, spiketrain):\n",
    "        '''\n",
    "        InputNeuron(spiketrain)\n",
    "        \n",
    "        Constructor for InputNeuron class.\n",
    "        \n",
    "        InputNeuron is a class of neuron that can be used to inject spikes into\n",
    "        the network. When involved in a simulation, an InputNeuron will generate\n",
    "        spikes at the times specified during its construction.\n",
    "        \n",
    "        Inputs:\n",
    "         spiketrain is an array or list of spike times\n",
    "        '''\n",
    "        self.spikes = np.array(spiketrain)\n",
    "        self.idx = []  # List index, when added to a network\n",
    "\n",
    "    def SpikesBetween(self, t_start, t_end):\n",
    "        '''\n",
    "        numspikes = InputNeuron.SpikesBetween(t_start, t_end)\n",
    "        \n",
    "        Returns the number of times the neuron spiked between t_start and t_end.\n",
    "        Specifically, it counts a spike if it occurred at t, where\n",
    "        t_start <= t < t_end\n",
    "        '''\n",
    "        sp_bool = np.logical_and( np.array(self.spikes)>=t_start, np.array(self.spikes)<t_end )\n",
    "        return np.sum(sp_bool)\n",
    "    \n",
    "    def Set_idx(self, idx):\n",
    "        self.idx = idx\n",
    "    def Get_idx(self):\n",
    "        '''\n",
    "         idx = InputNeuron.Get_idx()\n",
    "         \n",
    "         Returns the index of the neuron in its network.\n",
    "        '''\n",
    "        return self.idx\n",
    "    \n",
    "    def Slope(self):\n",
    "        return\n",
    "    \n",
    "    def Step(self, dt):\n",
    "        return\n",
    "    \n",
    "    def Get_spikes(self):\n",
    "        return self.spikes"
   ]
  },
  {
   "cell_type": "markdown",
   "metadata": {},
   "source": [
    "### Example use"
   ]
  },
  {
   "cell_type": "code",
   "execution_count": 5,
   "metadata": {},
   "outputs": [
    {
     "data": {
      "image/png": "[encoded data removed]",
      "text/plain": [
       "<Figure size 432x288 with 1 Axes>"
      ]
     },
     "metadata": {
      "needs_background": "light"
     },
     "output_type": "display_data"
    }
   ],
   "source": [
    "spikes = GenerateSpikeTrain([10, 25], [0.2, 0.5])  # Generates a specified spike train\n",
    "PlotSpikeRaster([spikes])"
   ]
  },
  {
   "cell_type": "code",
   "execution_count": 6,
   "metadata": {},
   "outputs": [
    {
     "name": "stdout",
     "output_type": "stream",
     "text": [
      "[0.05 0.15 0.22 0.26 0.3  0.34 0.38 0.42 0.46 0.5 ]\n",
      "3\n"
     ]
    }
   ],
   "source": [
    "neur_in = InputNeuron(spikes)\n",
    "print(neur_in.Get_spikes())  # Spike times\n",
    "print(neur_in.SpikesBetween(0.3,0.4)) # Number of spikes between 0.3 and 0.4"
   ]
  },
  {
   "cell_type": "markdown",
   "metadata": {},
   "source": [
    "# Q1: Implementing `LIFNeuron` Class"
   ]
  },
  {
   "cell_type": "markdown",
   "metadata": {},
   "source": [
    "## `LIFNeuron` class"
   ]
  },
  {
   "cell_type": "code",
   "execution_count": 7,
   "metadata": {
    "code_folding": []
   },
   "outputs": [],
   "source": [
    "class LIFNeuron(object):\n",
    "\n",
    "    def __init__(self, Tau_m=0.02, Tau_ref=0.002, Tau_s=0.05):\n",
    "        '''\n",
    "        LIFNeuron(Tau_m=0.02, Tau_ref=0.002, Tau_s=0.05)\n",
    "        \n",
    "        Constructor for LIFNeuron class\n",
    "        \n",
    "        Inputs:\n",
    "         Tau_m   membrane time constant, in seconds (s)\n",
    "         Tau_ref refractory period (s)\n",
    "         Tau_s   synaptic time constant (s)\n",
    "        '''\n",
    "        self.tau_m = Tau_m      # membrane time constant\n",
    "        self.tau_ref = Tau_ref  # refractory period\n",
    "        self.tau_s = Tau_s      # synaptic time constant\n",
    "        self.v = 0.             # sub-threshold membrane potential (voltage)\n",
    "        self.s = 0.             # post-synaptic current (PSC)\n",
    "        self.t = 0.             # current time\n",
    "        self.dvdt = 0.          # slope of v (w.r.t. time)\n",
    "        self.dsdt = 0.          # slope of s (w.r.t. time)\n",
    "        \n",
    "        self.idx = []           # List index, when added to a network\n",
    "        \n",
    "        self.weighted_incoming_spikes = 0.  # weighted sum of incoming spikes (for one time step)\n",
    "        self.ref_remaining = 0. # amount of time remaining in the refractory period\n",
    "        \n",
    "        # For plotting\n",
    "        self.v_history = []     # records v over time\n",
    "        self.s_history = []\n",
    "        self.spikes = []        # list of times when this neuron spiked\n",
    "        \n",
    "\n",
    "    # A bunch of set and get functions.\n",
    "    def Set_v(self, v):\n",
    "        self.v = v \n",
    "    def Get_v(self):\n",
    "        return self.v\n",
    "    def Set_s(self, s):\n",
    "        self.s = s\n",
    "    def Get_s(self):\n",
    "        return self.s\n",
    "    def Set_ref_remaining(self, ref_remaining):\n",
    "        self.ref_remaining = ref_remaining\n",
    "    def Get_ref_remaining(self):\n",
    "        return self.ref_remaining\n",
    "    def Set_idx(self, idx):\n",
    "        self.idx = idx\n",
    "    def Get_idx(self):\n",
    "        return self.idx\n",
    "    def Get_spikes(self):\n",
    "        return self.spikes\n",
    "    def Set_t(self, t):\n",
    "        self.t = t\n",
    "    def Get_v_history(self):\n",
    "        return self.v_history\n",
    "    \n",
    "    def SpikesBetween(self, t_start, t_end):\n",
    "        '''\n",
    "        numspikes = LIFNeuron.SpikesBetween(t_start, t_end)\n",
    "        \n",
    "        Returns the number of times the neuron spiked between t_start and t_end.\n",
    "        Specifically, it counts a spike if it occurred at t, where\n",
    "        t_start <= t < t_end\n",
    "        '''\n",
    "        sp_bool = np.logical_and( np.array(self.spikes)>=t_start, np.array(self.spikes)<t_end )\n",
    "        return np.sum(sp_bool)\n",
    "    \n",
    "    def Slope(self):\n",
    "        '''\n",
    "        LIFNeuron.Slope()\n",
    "        \n",
    "        Evaluates the right-hand side of the differential equations that\n",
    "        govern v and s. The slopes get stored in the internal variables\n",
    "          self.dvdt, and\n",
    "          self.dsdt\n",
    "        '''\n",
    "        #===== REPLACE THE CODE BELOW =====\n",
    "        self.dvdt = (self.s - self.v)/self.tau_m\n",
    "        self.dsdt = -self.s/self.tau_s\n",
    "        \n",
    "        \n",
    "    def Step(self, dt):\n",
    "        '''\n",
    "        LIFNeuron.Step(dt)\n",
    "        \n",
    "        Updates the LIF neuron state by taking an Euler step in v and s.\n",
    "        The length of the step is dt seconds.\n",
    "        If v reaches the threshold of 1, the neuron fires an action potential\n",
    "        (spike). Linear interpolation should be used to estimate the time that v=1.\n",
    "        The spike time is appended to the list self.spikes, and v\n",
    "        is set to zero. After a spike, the neuron is dormant for self.tau_ref\n",
    "        seconds.\n",
    "        \n",
    "        '''\n",
    "        #==== PLACE YOUR CODE HERE ====\n",
    "        \n",
    "        # check Value of V, if V==1: reset\n",
    "        if self.Get_v() == 1:\n",
    "            self.Set_v(0)\n",
    "        \n",
    "        self.Slope()\n",
    "        self.Set_s(self.Get_s() + dt * self.dsdt + self.weighted_incoming_spikes / self.tau_s)\n",
    "        \n",
    "        \n",
    "        dt_real = dt - self.Get_ref_remaining()\n",
    "        if dt_real < 0:\n",
    "            self.Set_ref_remaining(self.Get_ref_remaining() - dt)\n",
    "        \n",
    "#         activated but not fire a spike\n",
    "        elif self.Get_v() + dt_real * self.dvdt < 1:\n",
    "            self.Set_v(self.Get_v() + dt_real * self.dvdt)\n",
    "            self.Set_ref_remaining(0)\n",
    "            \n",
    "#         fire spike\n",
    "        else:\n",
    "            dt_to_1 = (1-self.Get_v()) /self.dvdt\n",
    "            self.spikes.append(self.t + self.Get_ref_remaining() + dt_to_1)\n",
    "            self.Set_v(1)\n",
    "            self.Set_ref_remaining(self.tau_ref-(dt - self.Get_ref_remaining() - dt_to_1))\n",
    "      \n",
    "        self.t = self.t + dt    \n",
    "        # Store v (for plotting), and reset incoming spike accumulator\n",
    "        self.v_history.append(self.v)\n",
    "        self.weighted_incoming_spikes = 0.\n",
    "\n",
    "        \n",
    "        \n",
    "        \n",
    "    def ReceiveSpike(self, w):\n",
    "        '''\n",
    "        LIFNeuron.ReceiveSpike(w)\n",
    "        \n",
    "        Registers the arrival of a spike from a presynaptic neuron. The\n",
    "        member variable self.weighted_incoming_spikes keeps track of all\n",
    "        the incoming spikes, each weighted by their respective connection\n",
    "        weights. It is sufficient to add them all together to tabulate the\n",
    "        total incoming weighted spikes (from all presynaptic neurons).\n",
    "        \n",
    "        Input:\n",
    "         w    is the connection weight from the presynaptic neuron.\n",
    "        '''\n",
    "        self.weighted_incoming_spikes += w\n",
    "        \n",
    "        \n",
    "    def ShowState(self):\n",
    "        '''\n",
    "         LIFNeuron.ShowState()\n",
    "         \n",
    "         Prints the current time, membrane potential, input current, and\n",
    "         remaining refractory time.\n",
    "        '''\n",
    "        print('{0:6.4f}s: s={1:5.3f}, v={2:6.4f}, ref remaining={3:7.5f}'.format(self.t, self.s, self.v, self.ref_remaining))\n"
   ]
  },
  {
   "cell_type": "markdown",
   "metadata": {},
   "source": [
    "## Tests"
   ]
  },
  {
   "cell_type": "markdown",
   "metadata": {},
   "source": [
    "The test below should yield,\n",
    "\n",
    "    0.0000s: s=0.000, v=0.0000, ref remaining=0.00000\n",
    "    0.0010s: s=0.600, v=0.0000, ref remaining=0.00000\n",
    "    0.0020s: s=0.588, v=0.0300, ref remaining=0.00000"
   ]
  },
  {
   "cell_type": "code",
   "execution_count": 8,
   "metadata": {},
   "outputs": [
    {
     "name": "stdout",
     "output_type": "stream",
     "text": [
      "0.0000s: s=0.000, v=0.0000, ref remaining=0.00000\n",
      "0.0010s: s=0.600, v=0.0000, ref remaining=0.00000\n",
      "0.0020s: s=0.588, v=0.0300, ref remaining=0.00000\n"
     ]
    }
   ],
   "source": [
    "lif_a = LIFNeuron(Tau_m=0.02, Tau_ref=0.002, Tau_s=0.05)\n",
    "\n",
    "# If you want to run the version from the supplied solutions, use\n",
    "# the line below instead.\n",
    "#lif_a = solutions.LIFNeuron(Tau_m=0.02, Tau_ref=0.002, Tau_s=0.05)\n",
    "\n",
    "lif_a.ReceiveSpike(0.03)\n",
    "lif_a.ShowState()\n",
    "lif_a.Slope()\n",
    "lif_a.Step(0.001)\n",
    "lif_a.ShowState()\n",
    "lif_a.Slope()\n",
    "lif_a.Step(0.001)\n",
    "lif_a.ShowState()"
   ]
  },
  {
   "cell_type": "markdown",
   "metadata": {},
   "source": [
    "The test below should yield,\n",
    "\n",
    "    0.0000s: s=0.500, v=0.0000, ref remaining=0.00150\n",
    "    0.0010s: s=0.490, v=0.0000, ref remaining=0.00050\n",
    "    0.0020s: s=0.480, v=0.0123, ref remaining=0.00000"
   ]
  },
  {
   "cell_type": "code",
   "execution_count": 9,
   "metadata": {},
   "outputs": [
    {
     "name": "stdout",
     "output_type": "stream",
     "text": [
      "0.0000s: s=0.500, v=0.0000, ref remaining=0.00150\n",
      "0.0010s: s=0.490, v=0.0000, ref remaining=0.00050\n",
      "0.0020s: s=0.480, v=0.0123, ref remaining=0.00000\n"
     ]
    }
   ],
   "source": [
    "lif_a = LIFNeuron(Tau_m=0.02, Tau_ref=0.002, Tau_s=0.05)\n",
    "lif_a.Set_v(0.)\n",
    "lif_a.Set_s(0.5)\n",
    "lif_a.Set_ref_remaining(0.0015)\n",
    "lif_a.ShowState()\n",
    "lif_a.Slope(); lif_a.Step(0.001)\n",
    "lif_a.ShowState()\n",
    "lif_a.Slope(); lif_a.Step(0.001)\n",
    "lif_a.ShowState()"
   ]
  },
  {
   "cell_type": "markdown",
   "metadata": {},
   "source": [
    "The test below should yield,\n",
    "\n",
    "    0.3000s: s=1.300, v=0.9800, ref remaining=0.00000\n",
    "    0.3010s: s=1.274, v=0.9960, ref remaining=0.00000\n",
    "    0.3020s: s=1.249, v=1.0000, ref remaining=0.00129\n",
    "    0.3030s: s=1.224, v=0.0000, ref remaining=0.00029\n",
    "    0.3040s: s=1.199, v=0.0436, ref remaining=0.00000\n",
    "    Spike occurred at 0.30129 seconds"
   ]
  },
  {
   "cell_type": "code",
   "execution_count": 10,
   "metadata": {},
   "outputs": [
    {
     "name": "stdout",
     "output_type": "stream",
     "text": [
      "0.3000s: s=1.300, v=0.9800, ref remaining=0.00000\n",
      "0.3010s: s=1.274, v=0.9960, ref remaining=0.00000\n",
      "0.3020s: s=1.249, v=1.0000, ref remaining=0.00129\n",
      "0.3030s: s=1.224, v=0.0000, ref remaining=0.00029\n",
      "0.3040s: s=1.199, v=0.0436, ref remaining=0.00000\n",
      "Spike occurred at 0.30129 seconds\n"
     ]
    }
   ],
   "source": [
    "lif_a = LIFNeuron(Tau_m=0.02, Tau_ref=0.002, Tau_s=0.05)\n",
    "lif_a.Set_t(0.3)\n",
    "lif_a.Set_v(0.98)\n",
    "lif_a.Set_s(1.3)\n",
    "dt = 0.001\n",
    "lif_a.ShowState()\n",
    "lif_a.Slope(); lif_a.Step(dt); lif_a.ShowState()\n",
    "lif_a.Slope(); lif_a.Step(dt); lif_a.ShowState()\n",
    "lif_a.Slope(); lif_a.Step(dt); lif_a.ShowState()\n",
    "lif_a.Slope(); lif_a.Step(dt); lif_a.ShowState()\n",
    "if len(lif_a.Get_spikes())>0:\n",
    "    print('Spike occurred at {0:.5g} seconds'.format(lif_a.Get_spikes()[-1]))"
   ]
  },
  {
   "cell_type": "markdown",
   "metadata": {},
   "source": [
    "# Q2: Implementing `SpikingNetwork`"
   ]
  },
  {
   "cell_type": "markdown",
   "metadata": {},
   "source": [
    "## `SpikingNetwork` Class"
   ]
  },
  {
   "cell_type": "code",
   "execution_count": 11,
   "metadata": {},
   "outputs": [],
   "source": [
    "class SpikingNetwork(object):\n",
    "    \n",
    "    def __init__(self):\n",
    "        '''\n",
    "        SpikingNetwork()\n",
    "        \n",
    "        Constructor for SpikingNetwork class.\n",
    "        \n",
    "        The SpikingNetwork class contains a collection of neurons,\n",
    "        and the connections between those neurons.\n",
    "        '''\n",
    "        self.neurons = []      # List of neurons (of various kinds)\n",
    "        self.connections = []  # List of connections\n",
    "        self.t_history = []    # List of time stamps for the Euler steps\n",
    "                               # (Useful for plotting)\n",
    "        \n",
    "    def GetNeuron(self, idx):\n",
    "        '''\n",
    "         neur = SpikingNetwork.GetNeuron(idx)\n",
    "         \n",
    "         Returns the Neuron object at index idx.\n",
    "        '''\n",
    "        return self.neurons[idx]\n",
    "    \n",
    "    def GetConnection(self, c):\n",
    "        '''\n",
    "         con = SpikingNetwork.GetConnection(c)\n",
    "        '''\n",
    "        return self.connections[c]\n",
    "    \n",
    "    def AddNeuron(self, neur):\n",
    "        '''\n",
    "        SpikingNetwork.AddNeuron(neuron)\n",
    "        \n",
    "        Adds a neuron to the network.\n",
    "        \n",
    "        Input:\n",
    "         neuron is an object of type LIFNeuron or InputNeuron\n",
    "        '''\n",
    "        self.neurons.append(neur)\n",
    "        neur.idx = len(self.neurons)-1\n",
    "        \n",
    "    def Connect(self, pre, post, w):\n",
    "        '''\n",
    "        SpikingNetwork.Connect(pre, post, w)\n",
    "        \n",
    "        Connects neuron 'pre' to neuron 'post' with a connection\n",
    "        weigth of w.\n",
    "        \n",
    "        Each \"connection\" is stored as a list of 3 numbers of the form:\n",
    "         [ pre_idx, post_idx, weight ]\n",
    "        where\n",
    "         pre_idx is the list index of the pre-synaptic neuron,\n",
    "         post_idx is the list index of the post-synaptic neuron, and\n",
    "         weight is the connection weight.\n",
    "        eg. self.connections = [[0,1,0.05], [1,2,0.04], [1,0,-0.2]]\n",
    "        '''\n",
    "        self.connections.append([pre, post, w])\n",
    "        \n",
    "        \n",
    "    def Simulate(self, T, dt):\n",
    "        '''\n",
    "        SpikingNetwork.Simulate(T, dt)\n",
    "        \n",
    "        Simulates the network for T seconds by taking Euler steps\n",
    "        of size dt.\n",
    "        \n",
    "        Inputs:\n",
    "         T    how long to integrate for\n",
    "         dt   time step for Euler's method\n",
    "        '''\n",
    "        \n",
    "        # This code takes care of recording time samples in a way\n",
    "        # that allows continuation. You needn't fuss over this code.\n",
    "        current = 0 if len(self.t_history)==0 else self.t_history[-1]\n",
    "        t_segment = np.arange(current, current+T, dt)\n",
    "        \n",
    "        \n",
    "        #==== HERE IS WHERE YOUR CODE STARTS ====\n",
    "        \n",
    "        # Loop over time steps (I've set that up for you)\n",
    "        for tt in t_segment:\n",
    "            self.t_history.append(tt)  # Record time stamp\n",
    "            \n",
    "            # get connections points to each neuros, receive the spikes\n",
    "            for post_neuron in self.neurons:\n",
    "#                 conn = [c for c in self.connections if c[1] == post_neuron.idx]\n",
    "                # reset the incoming_spike_weight\n",
    "                incoming_weight = 0.\n",
    "                for connection in self.connections:\n",
    "                    # get incoming spike weight from each prev_neurons\n",
    "                    if connection[1] == post_neuron.idx:\n",
    "                        prev_neuron = self.neurons[connection[0]]\n",
    "                        incoming_weight += connection[2] * prev_neuron.SpikesBetween(tt - dt, tt)\n",
    "                        post_neuron.weighted_incoming_spikes = incoming_weight\n",
    "                \n",
    "                # call slope and spike\n",
    "                post_neuron.Slope()\n",
    "                post_neuron.Step(dt)\n",
    "            \n",
    "        #==== PLACE YOUR CODE HERE ====\n",
    "\n",
    "        \n",
    "        \n",
    "    def AllSpikeTimes(self):\n",
    "        '''\n",
    "        SpikingNetwork.AllSpikeTimes()\n",
    "        \n",
    "        Returns all the spikes of all the neurons in the network.\n",
    "        Useful for making spike-raster plots of network activity.\n",
    "        \n",
    "        Output:\n",
    "         all_spikes  a list of sublists, where each sublist holds\n",
    "                     the spike times of one of the neurons\n",
    "        '''\n",
    "        blah = []\n",
    "        for neur in self.neurons:\n",
    "            blah.append(np.array(neur.Get_spikes()))\n",
    "        return blah"
   ]
  },
  {
   "cell_type": "markdown",
   "metadata": {},
   "source": [
    "### Test"
   ]
  },
  {
   "cell_type": "code",
   "execution_count": 12,
   "metadata": {},
   "outputs": [],
   "source": [
    "# This will create a small network to test on. This network is shown in Fig. 1(a).\n",
    "net = SpikingNetwork()\n",
    "A = LIFNeuron(Tau_s=0.1)  # Create a LIF neuron\n",
    "in1 = InputNeuron( GenerateSpikeTrain([30], [1]) )  # Create an input neuron\n",
    "\n",
    "net.AddNeuron(A)  # Neuron 0 (uses default values for tau_m and tau_ref)\n",
    "net.AddNeuron(in1)  # Input neuron generates 30 Hz spike train\n",
    "net.Connect(in1.Get_idx(), A.Get_idx(), 0.05)  # Connection from neuron 1 to neuron 0\n",
    "net.Simulate(1, 0.001) # Simulate for 1 second"
   ]
  },
  {
   "cell_type": "code",
   "execution_count": 13,
   "metadata": {},
   "outputs": [
    {
     "data": {
      "image/png": "[encoded data removed]",
      "text/plain": [
       "<Figure size 432x288 with 1 Axes>"
      ]
     },
     "metadata": {
      "needs_background": "light"
     },
     "output_type": "display_data"
    }
   ],
   "source": [
    "# Plot the membrane potential of net.neuron[0]\n",
    "plt.plot(net.t_history, net.GetNeuron(0).Get_v_history());\n",
    "plt.xlabel('Time (s)')\n",
    "plt.ylabel('Membrane Potential');"
   ]
  },
  {
   "cell_type": "code",
   "execution_count": 14,
   "metadata": {
    "scrolled": true
   },
   "outputs": [
    {
     "data": {
      "image/png": "[encoded data removed]",
      "text/plain": [
       "<Figure size 432x288 with 1 Axes>"
      ]
     },
     "metadata": {
      "needs_background": "light"
     },
     "output_type": "display_data"
    }
   ],
   "source": [
    "# Plot the spike rasters for all the neurons in the network.\n",
    "PlotSpikeRaster( net.AllSpikeTimes() )"
   ]
  },
  {
   "cell_type": "markdown",
   "metadata": {},
   "source": [
    "# Q3: Experiments with Spiking Networks"
   ]
  },
  {
   "cell_type": "markdown",
   "metadata": {},
   "source": [
    "## (a) LIF Firing Rate Curve"
   ]
  },
  {
   "cell_type": "code",
   "execution_count": 15,
   "metadata": {},
   "outputs": [],
   "source": [
    "import numpy as np\n",
    "# i.\n",
    "# This will create a small network to test on. This network is shown in Fig. 1(a).\n",
    "net = SpikingNetwork()\n",
    "A = LIFNeuron(Tau_s=0.1)  # Create a LIF neuron\n",
    "\n",
    "# parameters to generate spiketrains 5,10,15...100 Hz, each for 2 seconds\n",
    "input_firing_rate = np.arange(5,101,5)\n",
    "time_period = np.arange(2,len(input_firing_rate)*2+1,2)\n",
    "\n",
    "\n",
    "# Create an input neuron\n",
    "in1 = InputNeuron( GenerateSpikeTrain(input_firing_rate, time_period))  \n",
    "# Neuron 0 (uses default values for tau_m and tau_ref)\n",
    "net.AddNeuron(A)  \n",
    "# Input neuron generates 30 Hz spike train\n",
    "net.AddNeuron(in1)  \n",
    "# Connection from neuron 1 to neuron 0\n",
    "net.Connect(in1.Get_idx(), A.Get_idx(), 0.03)  \n",
    "# Simulate for 40 second\n",
    "net.Simulate(40, 0.001) "
   ]
  },
  {
   "cell_type": "code",
   "execution_count": 16,
   "metadata": {},
   "outputs": [],
   "source": [
    "# ii.\n",
    "lif_fire_rate = []\n",
    "for t in range(0,40,2):\n",
    "    fireRate = A.SpikesBetween(t, t + 2)/2\n",
    "    lif_fire_rate.append(fireRate)\n",
    "#     print('{:d}\\t{:d}\\t{:.2f}'.format(t,t+2,fireRate))"
   ]
  },
  {
   "cell_type": "code",
   "execution_count": 17,
   "metadata": {},
   "outputs": [
    {
     "data": {
      "image/png": "[encoded data removed]",
      "text/plain": [
       "<Figure size 432x288 with 1 Axes>"
      ]
     },
     "metadata": {
      "needs_background": "light"
     },
     "output_type": "display_data"
    }
   ],
   "source": [
    "# Make a plot of input firing rate vs LIF firing rate\n",
    "\n",
    "plt.plot(input_firing_rate, lif_fire_rate,'og');\n",
    "plt.xlabel('LIF fire rate in Hz')\n",
    "plt.ylabel('input_firing_rate in Hz');"
   ]
  },
  {
   "cell_type": "markdown",
   "metadata": {},
   "source": [
    "## (b) Two LIF Neurons"
   ]
  },
  {
   "cell_type": "code",
   "execution_count": 18,
   "metadata": {},
   "outputs": [],
   "source": [
    "# i.\n",
    "# This will create a small network to test on. This network is shown in Fig. 1(b).\n",
    "net_1b = SpikingNetwork()\n",
    "# Create LIF neuron A and B\n",
    "# default: Tau_m=0.02, Tau_s=0.05, Tau_ref=0.002\n",
    "A = LIFNeuron()\n",
    "B = LIFNeuron()\n",
    "# create inputNeuron\n",
    "in_1b = InputNeuron(GenerateSpikeTrain([30],[0.3]))\n",
    "# add input_neuron, A, and B to the neuron network\n",
    "net_1b.AddNeuron(in_1b)\n",
    "net_1b.AddNeuron(A)\n",
    "net_1b.AddNeuron(B)\n",
    "\n",
    "# connect input->A, A->B, and B->a with weight=0.5\n",
    "net_1b.Connect(in_1b.Get_idx(), A.Get_idx(), 0.05)  \n",
    "net_1b.Connect(A.Get_idx(), B.Get_idx(), 0.05)  \n",
    "net_1b.Connect(B.Get_idx(), A.Get_idx(), 0.05)\n",
    "net_1b.Simulate(1, 0.001) "
   ]
  },
  {
   "cell_type": "code",
   "execution_count": 19,
   "metadata": {},
   "outputs": [
    {
     "data": {
      "image/png": "[encoded data removed]",
      "text/plain": [
       "<Figure size 432x288 with 1 Axes>"
      ]
     },
     "metadata": {
      "needs_background": "light"
     },
     "output_type": "display_data"
    }
   ],
   "source": [
    "# ii.\n",
    "PlotSpikeRaster(net_1b.AllSpikeTimes())"
   ]
  },
  {
   "cell_type": "markdown",
   "metadata": {},
   "source": [
    "## (c) Three LIF Neurons: Inhibition"
   ]
  },
  {
   "cell_type": "code",
   "execution_count": 20,
   "metadata": {},
   "outputs": [],
   "source": [
    "# i.\n",
    "# This will create a small network to test on. This network is shown in Fig. 1(b).\n",
    "net_1c = SpikingNetwork()\n",
    "# Create LIF neuron A and B and C\n",
    "# default: Tau_m=0.02, Tau_s=0.05, Tau_ref=0.002\n",
    "A = LIFNeuron()\n",
    "B = LIFNeuron()\n",
    "C = LIFNeuron()\n",
    "# create inputNeurons connected to A and C\n",
    "in_1c_A = InputNeuron(GenerateSpikeTrain([30],[0.3]))\n",
    "in_1c_C = InputNeuron(GenerateSpikeTrain([0, 50],[0.7, 1.]))\n",
    "# add input_neurons and LIF neurons\n",
    "net_1c.AddNeuron(in_1c_A)\n",
    "net_1c.AddNeuron(in_1c_C)\n",
    "net_1c.AddNeuron(A)\n",
    "net_1c.AddNeuron(B)\n",
    "net_1c.AddNeuron(C)\n",
    "\n",
    "\n",
    "\n",
    "# connect input->A, A->B, and B->A with weight=0.05\n",
    "net_1c.Connect(in_1c_A.Get_idx(), A.Get_idx(), 0.05)  \n",
    "net_1c.Connect(A.Get_idx(), B.Get_idx(), 0.05)  \n",
    "net_1c.Connect(B.Get_idx(), A.Get_idx(), 0.05)\n",
    "net_1c.Connect(in_1c_C.Get_idx(), C.Get_idx(), 0.05)\n",
    "net_1c.Connect(C.Get_idx(), B.Get_idx(), -0.2)\n",
    "net_1c.Simulate(1.5, 0.001) "
   ]
  },
  {
   "cell_type": "code",
   "execution_count": 21,
   "metadata": {},
   "outputs": [
    {
     "data": {
      "image/png": "[encoded data removed]",
      "text/plain": [
       "<Figure size 432x288 with 1 Axes>"
      ]
     },
     "metadata": {
      "needs_background": "light"
     },
     "output_type": "display_data"
    }
   ],
   "source": [
    "# ii.\n",
    "PlotSpikeRaster(net_1c.AllSpikeTimes())"
   ]
  },
  {
   "cell_type": "markdown",
   "metadata": {},
   "source": [
    "### iii."
   ]
  },
  {
   "cell_type": "markdown",
   "metadata": {},
   "source": [
    "After 0.7 second, the second inputneuro fired spikes in frequency of 70 Hz.\n",
    "It soonly activated the neuron C and make it fire spikes to B.\n",
    "Because of the negative weight of connection from C to B, neuron B was inhibited first.\n",
    "After 0.7s, the neuron B fires less so that A receive spike weight from B less frequently.\n",
    "Finally both A and B were inhibited by second input neuron and C.\n",
    "It explains why we see less spikes for neuron A and B in the plot."
   ]
  },
  {
   "cell_type": "markdown",
   "metadata": {},
   "source": [
    "## (d) Ring Oscillator"
   ]
  },
  {
   "cell_type": "code",
   "execution_count": 22,
   "metadata": {},
   "outputs": [],
   "source": [
    "# i.\n",
    "# This will create a small network to test on. This network is shown in Fig. 1(b).\n",
    "net_1d = SpikingNetwork()\n",
    "\n",
    "# default: Tau_m=0.02, Tau_s=0.05, Tau_ref=0.002\n",
    "# Create LIF neurons A-H, with Tau_m = 50 ms, and Tau_s = 100 ms\n",
    "A = LIFNeuron(Tau_m=0.05, Tau_s=0.1)\n",
    "B = LIFNeuron(Tau_m=0.05, Tau_s=0.1) \n",
    "C = LIFNeuron(Tau_m=0.05, Tau_s=0.1) \n",
    "D = LIFNeuron(Tau_m=0.05, Tau_s=0.1) \n",
    "E = LIFNeuron(Tau_m=0.05, Tau_s=0.1) \n",
    "F = LIFNeuron(Tau_m=0.05, Tau_s=0.1)\n",
    "G = LIFNeuron(Tau_m=0.05, Tau_s=0.1)\n",
    "H = LIFNeuron(Tau_m=0.05, Tau_s=0.1)\n",
    "\n",
    "\n",
    "# add LIF neurons\n",
    "net_1d.AddNeuron(A)\n",
    "net_1d.AddNeuron(B)\n",
    "net_1d.AddNeuron(C)\n",
    "net_1d.AddNeuron(D)\n",
    "net_1d.AddNeuron(E)\n",
    "net_1d.AddNeuron(F)\n",
    "net_1d.AddNeuron(G)\n",
    "net_1d.AddNeuron(H)\n",
    "\n",
    "# connect A->B...->H->A with weight 0.2(excitatory ring)\n",
    "net_1d.Connect(A.Get_idx(), B.Get_idx(), 0.2)  \n",
    "net_1d.Connect(B.Get_idx(), C.Get_idx(), 0.2)\n",
    "net_1d.Connect(C.Get_idx(), D.Get_idx(), 0.2)\n",
    "net_1d.Connect(D.Get_idx(), E.Get_idx(), 0.2)\n",
    "net_1d.Connect(E.Get_idx(), F.Get_idx(), 0.2)\n",
    "net_1d.Connect(F.Get_idx(), G.Get_idx(), 0.2)\n",
    "net_1d.Connect(G.Get_idx(), H.Get_idx(), 0.2)\n",
    "net_1d.Connect(H.Get_idx(), A.Get_idx(), 0.2)\n"
   ]
  },
  {
   "cell_type": "code",
   "execution_count": 23,
   "metadata": {},
   "outputs": [],
   "source": [
    "# ii.\n",
    "# connect A->B...->H->A with weight -0.4(inhibitory ring)\n",
    "net_1d.Connect(A.Get_idx(), H.Get_idx(), -0.4)\n",
    "net_1d.Connect(B.Get_idx(), A.Get_idx(), -0.4)\n",
    "net_1d.Connect(C.Get_idx(), B.Get_idx(), -0.4)  \n",
    "net_1d.Connect(D.Get_idx(), C.Get_idx(), -0.4)\n",
    "net_1d.Connect(E.Get_idx(), D.Get_idx(), -0.4)\n",
    "net_1d.Connect(F.Get_idx(), E.Get_idx(), -0.4)\n",
    "net_1d.Connect(G.Get_idx(), F.Get_idx(), -0.4)\n",
    "net_1d.Connect(H.Get_idx(), G.Get_idx(), -0.4)"
   ]
  },
  {
   "cell_type": "code",
   "execution_count": 24,
   "metadata": {},
   "outputs": [],
   "source": [
    "# iii.\n",
    "\n",
    "# create inputNeurons ( fire @25 Hz for the first 0.3 seconds,then go dormant.)\n",
    "in_1d = InputNeuron(GenerateSpikeTrain([25],[0.3]))\n",
    "\n",
    "# add inputNeuron to network\n",
    "net_1d.AddNeuron(in_1d)\n",
    "\n",
    "# connect input to A with weight 0.2\n",
    "net_1d.Connect(in_1d.Get_idx(), A.Get_idx(), 0.2)"
   ]
  },
  {
   "cell_type": "code",
   "execution_count": 25,
   "metadata": {
    "scrolled": false
   },
   "outputs": [
    {
     "data": {
      "image/png": "[encoded data removed]",
      "text/plain": [
       "<Figure size 432x288 with 1 Axes>"
      ]
     },
     "metadata": {
      "needs_background": "light"
     },
     "output_type": "display_data"
    }
   ],
   "source": [
    "# iv.\n",
    "\n",
    "# net_1d.Simulate(4, 0.001) \n",
    "# PlotSpikeRaster(net_1d.AllSpikeTimes())\n",
    "net_1d.Simulate(4, 0.001)\n",
    "PlotSpikeRaster(net_1d.AllSpikeTimes())\n"
   ]
  },
  {
   "cell_type": "code",
   "execution_count": 26,
   "metadata": {},
   "outputs": [
    {
     "name": "stdout",
     "output_type": "stream",
     "text": [
      "0.06424\n",
      "0.08741\n",
      "0.23990\n",
      "0.26609\n",
      "0.28546\n",
      "0.31040\n",
      "0.63412\n",
      "0.65624\n",
      "0.68671\n",
      "1.06609\n",
      "1.10637\n",
      "1.45990\n",
      "1.49526\n",
      "1.85305\n",
      "1.88551\n",
      "2.24637\n",
      "2.27789\n",
      "2.64000\n",
      "2.67119\n",
      "3.03296\n",
      "3.06413\n",
      "3.42596\n",
      "3.45712\n",
      "3.81896\n",
      "3.85012\n"
     ]
    }
   ],
   "source": [
    "for s in A.spikes:\n",
    "    print('{:.5f}'.format(s))"
   ]
  },
  {
   "cell_type": "markdown",
   "metadata": {},
   "source": [
    "=== YOUR ANSWER HERE ===<br>\n",
    "It takes around 0.4 s "
   ]
  },
  {
   "cell_type": "markdown",
   "metadata": {},
   "source": [
    "# Q4: Neural Activation Functions"
   ]
  },
  {
   "cell_type": "markdown",
   "metadata": {},
   "source": [
    "## (a) ReLU derivative"
   ]
  },
  {
   "cell_type": "markdown",
   "metadata": {},
   "source": [
    "\\begin{align}\n",
    "f(x) &= ReLU(x)= max(x,0) = \n",
    "\\left\\{\n",
    "                \\begin{array}{ll}\n",
    "                  0 \\qquad if \\; x <= 0\\\\\n",
    "                  x \\qquad if \\; x >0\n",
    "                \\end{array}\n",
    "              \\right.\n",
    "\\end{align}\n",
    "\\begin{align}\n",
    "f'(x)= \\left\\{\n",
    "                \\begin{array}{ll}\n",
    "                  0 \\qquad if \\; x <= 0\\\\\n",
    "                  1 \\qquad if \\; x >0\n",
    "                \\end{array}\n",
    "              \\right.\n",
    "\\end{align}\n"
   ]
  },
  {
   "cell_type": "markdown",
   "metadata": {},
   "source": [
    "## (b.i) Logistic"
   ]
  },
  {
   "cell_type": "code",
   "execution_count": 27,
   "metadata": {},
   "outputs": [
    {
     "data": {
      "text/plain": [
       "[<matplotlib.lines.Line2D at 0x10e8e3c90>]"
      ]
     },
     "execution_count": 27,
     "metadata": {},
     "output_type": "execute_result"
    },
    {
     "data": {
      "image/png": "[encoded data removed]",
      "text/plain": [
       "<Figure size 432x288 with 1 Axes>"
      ]
     },
     "metadata": {
      "needs_background": "light"
     },
     "output_type": "display_data"
    }
   ],
   "source": [
    "# define z\n",
    "z = np.arange(-6, 6, 0.01)\n",
    "\n",
    "# standard_logistic\n",
    "def standard_logistic(z):\n",
    "    return 1/(1+ np.exp(-z))\n",
    "\n",
    "# plot\n",
    "plt.figure()\n",
    "plt.plot(z, standard_logistic(z))\n",
    "\n"
   ]
  },
  {
   "cell_type": "markdown",
   "metadata": {},
   "source": [
    "\\begin{align}\n",
    "f(z) &= \\frac{1}{1+e^{-z}} \\\\\n",
    "f'(z) &= \\frac{e^{-z}}{(e^{-z}+1)^{2}} \\\\\n",
    "f'(0) &= \\frac{1}{(1+1)^{2}} = \\frac{1}{4}\n",
    "\\end{align}"
   ]
  },
  {
   "cell_type": "markdown",
   "metadata": {},
   "source": [
    "The derivative reaches 0 when z approaches $-\\infty$ or $\\infty$. <br>\n",
    "The derivative reaches its maximum at z=0.<br>\n",
    "The maximum of the derivative is $\\frac{1}{4}$\n"
   ]
  },
  {
   "cell_type": "markdown",
   "metadata": {},
   "source": [
    "## (b.ii) tanh"
   ]
  },
  {
   "cell_type": "code",
   "execution_count": 28,
   "metadata": {},
   "outputs": [
    {
     "data": {
      "text/plain": [
       "[<matplotlib.lines.Line2D at 0x10e955450>]"
      ]
     },
     "execution_count": 28,
     "metadata": {},
     "output_type": "execute_result"
    },
    {
     "data": {
      "image/png": "[encoded data removed]",
      "text/plain": [
       "<Figure size 432x288 with 1 Axes>"
      ]
     },
     "metadata": {
      "needs_background": "light"
     },
     "output_type": "display_data"
    }
   ],
   "source": [
    "# tanh function\n",
    "def tanh(z):\n",
    "    return np.tanh(z)\n",
    "\n",
    "# plot\n",
    "plt.figure()\n",
    "plt.plot(z, tanh(z))\n"
   ]
  },
  {
   "cell_type": "markdown",
   "metadata": {},
   "source": [
    "\\begin{align}\n",
    "f(z) &= tanh(z) = \\frac{sinh(z)}{cosh(z)}\\\\\n",
    "sinh(z) &=\\frac{e^{z}-e^{‑z}}{2} \\qquad cosh(z) &=\\frac{e^{z}+e^{‑z}}{2}\n",
    "\\\\\n",
    "f'(z) &= sech^{2}(z)= \\frac{4}{(e^-{z} + e^{z})^{2}} \\\\\n",
    "f'(0) &= \\frac{4}{(1+1)^{2}} = 1\n",
    "\\end{align}"
   ]
  },
  {
   "cell_type": "markdown",
   "metadata": {},
   "source": [
    "YOUR ANSWER HERE<br>\n",
    "The derivative reaches 0 when z approaches $-\\infty$ or $\\infty$. <br>\n",
    "The derivative reaches its maximum at z=0.<br>\n",
    "The maximum of the derivative is 1."
   ]
  },
  {
   "cell_type": "markdown",
   "metadata": {},
   "source": [
    "## (b.iii) ReLU"
   ]
  },
  {
   "cell_type": "code",
   "execution_count": 29,
   "metadata": {
    "scrolled": true
   },
   "outputs": [
    {
     "data": {
      "text/plain": [
       "[<matplotlib.lines.Line2D at 0x10eb00d50>]"
      ]
     },
     "execution_count": 29,
     "metadata": {},
     "output_type": "execute_result"
    },
    {
     "data": {
      "image/png": "[encoded data removed]",
      "text/plain": [
       "<Figure size 432x288 with 1 Axes>"
      ]
     },
     "metadata": {
      "needs_background": "light"
     },
     "output_type": "display_data"
    }
   ],
   "source": [
    "# ReLU function\n",
    "def ReLU(z):\n",
    "    return np.maximum(np.zeros(len(z)), z)\n",
    "\n",
    "# Plot\n",
    "plt.figure()\n",
    "plt.plot(z, ReLU(z))"
   ]
  },
  {
   "cell_type": "markdown",
   "metadata": {},
   "source": [
    "YOUR ANSWER HERE<br>\n",
    "The derivative reaches 0 when z <= 0.\n",
    "The derivative reaches its maximum at z>0.<br>\n",
    "The maximum of the derivative is 1."
   ]
  },
  {
   "cell_type": "markdown",
   "metadata": {},
   "source": [
    "\\begin{align}\n",
    "f(wx+b)\n",
    "\\end{align}"
   ]
  },
  {
   "cell_type": "markdown",
   "metadata": {},
   "source": [
    "## (c.i) Derivative of f with respect to x"
   ]
  },
  {
   "cell_type": "markdown",
   "metadata": {},
   "source": [
    "\\begin{align}\n",
    "\\frac{d}{dx}f(wx+b) = \\frac{df(wx+b)}{d(wx)} \\cdot \\frac{d(wx)}{dx} = w \\cdot f'(wx+b)\n",
    "\\end{align}"
   ]
  },
  {
   "cell_type": "markdown",
   "metadata": {},
   "source": [
    "## (c.ii) Derivative of f with respect to w"
   ]
  },
  {
   "cell_type": "markdown",
   "metadata": {},
   "source": [
    "\\begin{align}\n",
    "\\frac{d}{dw}f(wx+b) = \\frac{df(wx+b)}{d(wx)} \\cdot \\frac{d(wx)}{dw} = x \\cdot f'(wx+b)\n",
    "\\end{align}"
   ]
  },
  {
   "cell_type": "markdown",
   "metadata": {},
   "source": [
    "## (c.ii) Derivative of f with respect to b"
   ]
  },
  {
   "cell_type": "markdown",
   "metadata": {},
   "source": [
    "YOUR ANSWER HERE"
   ]
  },
  {
   "cell_type": "markdown",
   "metadata": {
    "collapsed": true
   },
   "source": [
    "\\begin{align}\n",
    "\\frac{d}{db}f(wx+b) = \\frac{df(wx+b)}{d(wx+b)} \\cdot \\frac{d(wx+b)}{db} = f'(wx+b)\n",
    "\\end{align}"
   ]
  },
  {
   "cell_type": "code",
   "execution_count": null,
   "metadata": {},
   "outputs": [],
   "source": []
  }
 ],
 "metadata": {
  "anaconda-cloud": {},
  "kernelspec": {
   "display_name": "Python 3",
   "language": "python",
   "name": "python3"
  },
  "language_info": {
   "codemirror_mode": {
    "name": "ipython",
    "version": 3
   },
   "file_extension": ".py",
   "mimetype": "text/x-python",
   "name": "python",
   "nbconvert_exporter": "python",
   "pygments_lexer": "ipython3",
   "version": "3.7.5"
  },
  "toc": {
   "nav_menu": {},
   "number_sections": true,
   "sideBar": true,
   "skip_h1_title": false,
   "title_cell": "Table of Contents",
   "title_sidebar": "Contents",
   "toc_cell": false,
   "toc_position": {},
   "toc_section_display": true,
   "toc_window_display": false
  }
 },
 "nbformat": 4,
 "nbformat_minor": 2
}
