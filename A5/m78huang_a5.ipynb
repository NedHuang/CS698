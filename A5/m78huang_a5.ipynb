{
 "cells": [
  {
   "cell_type": "markdown",
   "metadata": {},
   "source": [
    "# A5"
   ]
  },
  {
   "cell_type": "code",
   "execution_count": 1,
   "metadata": {},
   "outputs": [],
   "source": [
    "# Standard Imports\n",
    "import numpy as np\n",
    "import matplotlib.pylab as plt"
   ]
  },
  {
   "cell_type": "markdown",
   "metadata": {
    "heading_collapsed": true
   },
   "source": [
    "# Q1: Electrophysiology Experiment"
   ]
  },
  {
   "cell_type": "markdown",
   "metadata": {
    "heading_collapsed": true,
    "hidden": true
   },
   "source": [
    "## Helper functions"
   ]
  },
  {
   "cell_type": "code",
   "execution_count": 2,
   "metadata": {
    "hidden": true
   },
   "outputs": [],
   "source": [
    "def MonkeyFixationSpikes(x, T, pop):\n",
    "    \"\"\"\n",
    "    spike_times = MonkeyFixationSpikes(x, T, pop)\n",
    "\n",
    "    Given the gaze direction, outputs the spiking activity of the monkey's\n",
    "    neurons.\n",
    "\n",
    "    Input:\n",
    "      x is the monkey's gaze direction\n",
    "      T is the duration of the fixation (in seconds)\n",
    "      pop is a 6xN matrix of LIF parameters\n",
    "\n",
    "    Output:\n",
    "      spike_times is an list containing N arrays of time-stamps indicating\n",
    "        when each neuron fired.  \n",
    "    \"\"\"\n",
    "    dt = 0.001  # time-step size for simulations\n",
    "    xts = x*np.ones(int(T/dt))\n",
    "    sp, v = Stim2Spikes(xts, dt, pop, interp=True)\n",
    "    return sp\n",
    "\n",
    "def Stim2Spikes(x, dt, lif, interp=False):\n",
    "    '''\n",
    "    spike_times, V = Stim2Spikes(x, dt, LIFparams, interp=False)\n",
    "\n",
    "    Given the input current, outputs the spiking activity of a\n",
    "    population neurons.\n",
    "\n",
    "    Input:\n",
    "      J is a PxN array of input currents, with each row containing the\n",
    "        input current for N neurons at a given time\n",
    "      dt is the time step (in seconds)\n",
    "      lif is a (5+K)xN matrix of LIF parameters\n",
    "      interp determines whether spike times should be interpolated\n",
    "          (False is the default)\n",
    "\n",
    "    Output:\n",
    "      spike_times is an array of time-stamps indicating when the neurons\n",
    "        fired.  In particular,\n",
    "      V is a PxN array of membrane potentials\n",
    "    '''\n",
    "\n",
    "    P = np.shape(x)[0] # number of x-values\n",
    "    N = np.shape(lif)[1] # number of neurons\n",
    "\n",
    "    T = dt * P # seconds\n",
    "    t = np.array(range(P+1)) * dt  # time steps\n",
    "\n",
    "    #J_th = lif[0,:]\n",
    "    #tau_RC = lif[1,:]\n",
    "    #tau_ref = lif[2,:]\n",
    "    alpha = lif[3,:]\n",
    "    Jbias = lif[4,:]\n",
    "    enc = lif[5,:]\n",
    "\n",
    "    V = np.array( np.zeros(N) )\n",
    "    Vrec = np.array( np.zeros([P+1,N]) )\n",
    "    Vrec[0,:] = V\n",
    "\n",
    "    J = np.array( np.zeros([P,N]) ) # to store input currents\n",
    "    #pdb.set_trace()  # this sets a breakpoint\n",
    "\n",
    "    for k in range(1,P):\n",
    "        for m in range(N):\n",
    "            J[k,m] = alpha[m]*x[k-1]*enc[m] + Jbias[m]\n",
    "        # next m\n",
    "    # next k\n",
    "\n",
    "    # Pass the work onto the integrator\n",
    "    spike_times, Vrec = Current2Spikes(J, dt, lif, interp)\n",
    "\n",
    "    return spike_times, Vrec\n",
    "\n",
    "def Current2Spikes(J, dt, lif=np.array([[1.,0.02, 0.002, 1, 0, -1]]).T, interp=False):\n",
    "    '''\n",
    "    spike_times, V = Current2Spikes(J, dt, lif, interp=False)\n",
    "\n",
    "    Given the input current, outputs the spiking activity of a\n",
    "    population neurons.\n",
    "\n",
    "    Input:\n",
    "      J is a PxN array of input currents, with each row containing the\n",
    "        input current for N neurons at a given time\n",
    "      dt is the time step (in seconds)\n",
    "      lif is a (5+K)xN matrix of LIF parameters\n",
    "      interp determines whether spike times should be interpolated\n",
    "          (False is the default)\n",
    "\n",
    "    Output:\n",
    "      spike_times is an array of time-stamps indicating when the neurons\n",
    "        fired.  In particular,\n",
    "      V is a PxN array of membrane potentials\n",
    "    '''\n",
    "    P = np.shape(J)[0] # number of x-values\n",
    "    N = np.shape(lif)[1] # number of neurons\n",
    "\n",
    "    T = dt * P # seconds\n",
    "    t = np.array(range(P)) * dt  # time steps\n",
    "\n",
    "    J_th = lif[0,:]\n",
    "    tau_RC = lif[1,:]\n",
    "    tau_ref = lif[2,:]\n",
    "    #alpha = lif[3,:]\n",
    "    #Jbias = lif[4,:]\n",
    "    #enc = lif[5,:]\n",
    "\n",
    "    V = np.array( np.zeros(N) )\n",
    "    Vrec = np.array( np.zeros([P,N]) )\n",
    "    Vrec[0,:] = V\n",
    "\n",
    "    max_number_spikes = int(np.floor(T/min(tau_ref)))\n",
    "    spike_times_matrix = np.zeros([max_number_spikes,N])\n",
    "    spike_count = np.zeros(N, dtype=int)\n",
    "    refracting = np.zeros(N)\n",
    "\n",
    "\n",
    "    for k in range(1,P):\n",
    "        for m in range(N):\n",
    "            J_M = J[k-1,m]\n",
    "            dV = (-1.0 / tau_RC[m]) * (V[m]-J_M * J_th[m])\n",
    "\n",
    "            #active = (t[k] >= refracting)\n",
    "            Vn = 0  # default if still in refraction\n",
    "            if t[k]>=refracting[m]:\n",
    "                Vo = V[m] # previous V\n",
    "                if abs(t[k]-refracting[m])>=dt:\n",
    "                    Vn = Vo + dV * dt # new V\n",
    "                else:\n",
    "                    Vn = Vo + dV * (t[k] - refracting[m])\n",
    "\n",
    "                #Vn = clip(Vn,0,1.e20)\n",
    "\n",
    "                if Vn>=1.0:\n",
    "                    if interp:\n",
    "                        # Linear interpolation of time for threshold crossing\n",
    "                        tstar = ( t[k-1]*(Vn-1) - t[k]*(Vo-1) ) / (Vn-Vo)\n",
    "                    else:\n",
    "                        # Choose t[k] as spike time\n",
    "                        tstar = t[k]\n",
    "\n",
    "                    spike_times_matrix[spike_count[m],m] = tstar\n",
    "                    spike_count[m] = spike_count[m] + 1\n",
    "                    refracting[m] = tstar + tau_ref[m]\n",
    "                    Vn = 0.\n",
    "                # end of if\n",
    "\n",
    "            # end of refraction if\n",
    "            V[m] = Vn\n",
    "\n",
    "        # next m\n",
    "\n",
    "        #pdb.set_trace()  # this sets a breakpoint\n",
    "        Vrec[k,:] = V\n",
    "\n",
    "    # next k\n",
    "\n",
    "    spike_times = []\n",
    "    for n in range(N):\n",
    "        spike_times.append(spike_times_matrix[0:spike_count[n],n])\n",
    "\n",
    "    return spike_times, Vrec\n",
    "\n",
    "\n",
    "def PlotSpikeRaster(st, y_range=[0, 1.]):\n",
    "    '''\n",
    "    PlotSpikeRaster(spiketimes, y_range=[0, 1.])\n",
    "\n",
    "    Plots a spike raster plot for a list of arrays of spike times.\n",
    "\n",
    "    Input:\n",
    "      spiketimes is a list of arrays of spike times, like that returned\n",
    "          by the function Stim2Spikes.\n",
    "      y_range is a 2-tuple that holds the y-values that the raster ticks\n",
    "          should be drawn between\n",
    "    '''\n",
    "    N = len(st)  # number of neurons\n",
    "\n",
    "    levels = np.linspace(y_range[0], y_range[1], N+1, endpoint=True)\n",
    "    plt.figure(figsize=(10,4))\n",
    "    for n in range(N):\n",
    "        nspikes = len(st[n])\n",
    "        y = [ [levels[n]]*nspikes , [levels[n+1]]*nspikes ]\n",
    "        #y = y_range[0] + [levels[n]]*nspikes\n",
    "        plt.vlines(st[n], levels[n], levels[n+1], color=np.random.rand(3))\n",
    "        #plt.plot(vstack((st[n],st[n])), y, color=random.rand(3))\n",
    "    plt.ylim(y_range)\n",
    "    return\n",
    "\n",
    "def CountSpikes(st, tstart, tend):\n",
    "    '''\n",
    "    counts = CountSpikes(st, tstart, tend)\n",
    "\n",
    "    Counts how many spikes occur between the start and end times.\n",
    "\n",
    "    Input:\n",
    "      st is a list of arrays of spike times, like that returned\n",
    "          by the function Stim2Spikes. That is, st[0] is an array of spike\n",
    "          times for the first neuron, st[1] is for the next neuron, etc.\n",
    "\n",
    "    Output:\n",
    "      counts is an array of integers indicating how many spikes each\n",
    "          neuron had.\n",
    "    '''\n",
    "    N = len(st)\n",
    "    r = np.zeros(N)\n",
    "    for n in range(N):\n",
    "        for s in st[n]:\n",
    "            if (tstart<=s and s<=tend):\n",
    "                r[n] += 1\n",
    "    return r\n"
   ]
  },
  {
   "cell_type": "code",
   "execution_count": 3,
   "metadata": {
    "hidden": true
   },
   "outputs": [],
   "source": [
    "#=====================\n",
    "# CHOOSE A MONKEY\n",
    "# The monkey's are numbered 0, 1, 2, 3, and 4.\n",
    "# This will read in the LIF parameters for the monkey's neurons\n",
    "# as well as the spiking trains for the unknown sequence.\n",
    "#=====================\n",
    "infile = open('monkey3.npz', 'rb')\n",
    "varsin = np.load(infile, allow_pickle=True)\n",
    "pop = varsin['pop']   # parameters for population of neurons\n",
    "Asp = varsin['Asp']   # spike trains for unknown sequence\n",
    "N = len(pop[1])  # number of neurons"
   ]
  },
  {
   "cell_type": "markdown",
   "metadata": {
    "hidden": true
   },
   "source": [
    "## (a) Behavioural Sampling Experiment"
   ]
  },
  {
   "cell_type": "code",
   "execution_count": 4,
   "metadata": {
    "hidden": true
   },
   "outputs": [],
   "source": [
    "# Select a spread of stimulus values from 0 to 9. Choose at least 100 samples.\n",
    "# pick num = 901. values are 0,0.01,0.02,...\n",
    "\n",
    "\n",
    "\n",
    "X = np.linspace(0.,9.,num=500)\n",
    "ft = 0.4\n",
    "A = np.zeros((500,20))\n",
    "row = 0\n",
    "\n",
    "for x in X:\n",
    "    spike_times = MonkeyFixationSpikes(x,ft,pop)\n",
    "    col = 0\n",
    "    for st in spike_times:\n",
    "        if len(st) != 0:\n",
    "            fr = 1/(st[1:] - st[:len(st)-1])\n",
    "        else:\n",
    "            fr=0\n",
    "        A[row][col] = np.mean(fr)\n",
    "        col+=1\n",
    "    row += 1\n",
    "# ***** YOUR CODE HERE *****"
   ]
  },
  {
   "cell_type": "markdown",
   "metadata": {
    "hidden": true
   },
   "source": [
    "## (b) View Tuning Curves"
   ]
  },
  {
   "cell_type": "code",
   "execution_count": 5,
   "metadata": {
    "hidden": true,
    "scrolled": true
   },
   "outputs": [
    {
     "ename": "NameError",
     "evalue": "name 'values' is not defined",
     "output_type": "error",
     "traceback": [
      "\u001b[1;31m---------------------------------------------------------------------------\u001b[0m",
      "\u001b[1;31mNameError\u001b[0m                                 Traceback (most recent call last)",
      "\u001b[1;32m<ipython-input-5-44f0859aa2bf>\u001b[0m in \u001b[0;36m<module>\u001b[1;34m\u001b[0m\n\u001b[0;32m      1\u001b[0m \u001b[1;31m# ***** YOUR CODE HERE *****\u001b[0m\u001b[1;33m\u001b[0m\u001b[1;33m\u001b[0m\u001b[1;33m\u001b[0m\u001b[0m\n\u001b[0;32m      2\u001b[0m \u001b[1;32mfor\u001b[0m \u001b[0mi\u001b[0m \u001b[1;32min\u001b[0m \u001b[0mrange\u001b[0m\u001b[1;33m(\u001b[0m\u001b[1;36m20\u001b[0m\u001b[1;33m)\u001b[0m\u001b[1;33m:\u001b[0m\u001b[1;33m\u001b[0m\u001b[1;33m\u001b[0m\u001b[0m\n\u001b[1;32m----> 3\u001b[1;33m     \u001b[0mplt\u001b[0m\u001b[1;33m.\u001b[0m\u001b[0mplot\u001b[0m\u001b[1;33m(\u001b[0m\u001b[0mvalues\u001b[0m\u001b[1;33m,\u001b[0m \u001b[0mA\u001b[0m\u001b[1;33m[\u001b[0m\u001b[1;33m:\u001b[0m\u001b[1;33m,\u001b[0m\u001b[0mi\u001b[0m\u001b[1;33m]\u001b[0m\u001b[1;33m)\u001b[0m\u001b[1;33m\u001b[0m\u001b[1;33m\u001b[0m\u001b[0m\n\u001b[0m\u001b[0;32m      4\u001b[0m \u001b[0mplt\u001b[0m\u001b[1;33m.\u001b[0m\u001b[0mtitle\u001b[0m\u001b[1;33m(\u001b[0m\u001b[1;34m'Tuning Curves'\u001b[0m\u001b[1;33m)\u001b[0m\u001b[1;33m\u001b[0m\u001b[1;33m\u001b[0m\u001b[0m\n\u001b[0;32m      5\u001b[0m \u001b[0mplt\u001b[0m\u001b[1;33m.\u001b[0m\u001b[0mxlabel\u001b[0m\u001b[1;33m(\u001b[0m\u001b[1;34m'Gaze Direction'\u001b[0m\u001b[1;33m)\u001b[0m\u001b[1;33m\u001b[0m\u001b[1;33m\u001b[0m\u001b[0m\n",
      "\u001b[1;31mNameError\u001b[0m: name 'values' is not defined"
     ]
    }
   ],
   "source": [
    "# ***** YOUR CODE HERE *****\n",
    "for i in range(20):\n",
    "    plt.plot(values, A[:,i])\n",
    "plt.title('Tuning Curves')\n",
    "plt.xlabel('Gaze Direction')\n",
    "plt.ylabel('Firing Rate (Hz)')"
   ]
  },
  {
   "cell_type": "markdown",
   "metadata": {
    "hidden": true
   },
   "source": [
    "## (c) Compute the Decoding Weights"
   ]
  },
  {
   "cell_type": "code",
   "execution_count": null,
   "metadata": {
    "hidden": true
   },
   "outputs": [],
   "source": [
    "# ***** YOUR CODE HERE *****\n",
    "# SVD u @ np.diag(s) @ vh\n",
    "U,Sigma,VTrans = np.linalg.svd(A,full_matrices =False)\n",
    "Sigma = np.diag(Sigma)\n",
    "D = VTrans.T@np.linalg.inv(Sigma)@U.T@X"
   ]
  },
  {
   "cell_type": "markdown",
   "metadata": {
    "hidden": true
   },
   "source": [
    "## (d) View Spike Raster of Unknown Sequence"
   ]
  },
  {
   "cell_type": "code",
   "execution_count": null,
   "metadata": {
    "hidden": true
   },
   "outputs": [],
   "source": [
    "# ***** YOUR CODE HERE *****\n",
    "PlotSpikeRaster(Asp,y_range = [0.0,1.0])"
   ]
  },
  {
   "cell_type": "markdown",
   "metadata": {
    "hidden": true
   },
   "source": [
    "## (e) Decode the Unknown Code"
   ]
  },
  {
   "cell_type": "code",
   "execution_count": null,
   "metadata": {
    "hidden": true
   },
   "outputs": [],
   "source": [
    "# Spike trains for unknown sequence are stored in 'Asp'\n",
    "# Asp is a list of arrays of spike trains, one array per neuron."
   ]
  },
  {
   "cell_type": "code",
   "execution_count": null,
   "metadata": {
    "hidden": true
   },
   "outputs": [],
   "source": [
    "# Compute firing rates\n",
    "delta_t = 0.5\n",
    "fr = np.zeros((5,20))\n",
    "i = 0\n",
    "tstart = 0.\n",
    "tend = 0.5\n",
    "for i in range(5):\n",
    "    spikeTrain = CountSpikes(Asp,tstart,tend)\n",
    "    fr[i,:] = spikeTrain/delta_t\n",
    "    tstart = tend\n",
    "    tend += 0.5\n",
    "# ***** YOUR CODE HERE *****"
   ]
  },
  {
   "cell_type": "code",
   "execution_count": null,
   "metadata": {
    "hidden": true
   },
   "outputs": [],
   "source": [
    "# Decode unknown code\n",
    "unknown_code = np.around(fr@D)\n",
    "\n",
    "# ***** YOUR CODE HERE *****"
   ]
  },
  {
   "cell_type": "markdown",
   "metadata": {
    "hidden": true
   },
   "source": [
    "## (f) Display the Unknown Code"
   ]
  },
  {
   "cell_type": "code",
   "execution_count": null,
   "metadata": {
    "hidden": true
   },
   "outputs": [],
   "source": [
    "# ***** YOUR CODE HERE *****\n",
    "fig = plt.figure(figsize=(8,6))\n",
    "fixation = np.linspace(0.5,2.5,num=5)\n",
    "plt.plot(fixation,unknown_code,'gd')\n",
    "plt.xlabel('fixation duration in seconds')\n",
    "plt.ylabel('gaze direction')\n",
    "plt.grid('on')"
   ]
  },
  {
   "cell_type": "markdown",
   "metadata": {
    "collapsed": true,
    "heading_collapsed": true
   },
   "source": [
    "# Q2: LSTM"
   ]
  },
  {
   "cell_type": "code",
   "execution_count": null,
   "metadata": {
    "hidden": true
   },
   "outputs": [],
   "source": [
    "# You may include some Python code to help you.\n",
    "import numpy as np\n",
    "Wf = np.array([0,10,0,0])\n",
    "bf = -5\n",
    "Wi = np.array([0,0,8,0])\n",
    "bi = -4\n",
    "Wo = np.array([0,0,0,9])\n",
    "bo = -4.5\n",
    "Wc = np.array([1,0,0,0])\n",
    "bc = 0\n",
    "ht_1 = np.array([-0.03])\n",
    "Ct_1 = np.array([0.05])\n",
    "\n",
    "def sigma(x):\n",
    "    deno = 1+np.exp(-x)\n",
    "    return 1/deno\n",
    "\n",
    "def gate(w,v,b):\n",
    "    return sigma(w@v+b)"
   ]
  },
  {
   "cell_type": "markdown",
   "metadata": {
    "hidden": true
   },
   "source": [
    "## (a)"
   ]
  },
  {
   "cell_type": "markdown",
   "metadata": {
    "hidden": true
   },
   "source": [
    "### (i)"
   ]
  },
  {
   "cell_type": "code",
   "execution_count": null,
   "metadata": {
    "hidden": true
   },
   "outputs": [],
   "source": [
    "\n",
    "# You can include some code, if you want.\n",
    "x1 = np.array([1,0,0])\n",
    "v1 = np.hstack((ht_1,x1))\n",
    "print(v1)\n",
    "ft = gate(Wf,v1,bf)\n",
    "it = gate(Wi,v1,bi)\n",
    "ot = gate(Wo,v1,bo)\n",
    "Ctildet = np.tanh(Wc@v1+bc)\n",
    "Ct = ft * np.array([0.05]) + it * Ctildet\n",
    "ht = ot * np.tanh(Ct)\n",
    "print(\"values of ft gate:\", ft)\n",
    "print(\"values of it gate:\", it)\n",
    "print(\"values of ot gate:\", ot)\n",
    "print(\"value of Ct is: \", Ct[0])\n",
    "print(\"value of new ht is: \",ht[0])"
   ]
  },
  {
   "cell_type": "markdown",
   "metadata": {
    "hidden": true
   },
   "source": [
    "$$h_{t-1} = [-0.03]$$\n",
    "$$x1 = [1,0,0]$$\n",
    "$$v_1 = [-0.03,1,0,0]$$\n",
    "$$f_t = 0.9933071490757153\\approx 1$$\n",
    "$$i_t = 0.01798620996209156 \\approx 0$$\n",
    "$$o_t = 0.01098694263059318\\approx 0$$\n",
    "$$C_t = f_t \\odot C_{t-1} + i_t \\odot \\tilde{C_t} \\approx 1\\odot C_{t-1} + 0 \\odot  \\tilde{C_t} = 0.05$$\n",
    "\n",
    "$$h_t = o_t \\odot tanh(C_t) \\approx 0 \\odot tanh(C_t) = 0$$\n"
   ]
  },
  {
   "cell_type": "markdown",
   "metadata": {
    "hidden": true
   },
   "source": [
    "### (ii)"
   ]
  },
  {
   "cell_type": "code",
   "execution_count": null,
   "metadata": {
    "hidden": true
   },
   "outputs": [],
   "source": [
    "x2 = np.array([0,1,0])\n",
    "v2 = np.hstack((ht_1,x2))\n",
    "print(v2)\n",
    "ft = gate(Wf,v2,bf)\n",
    "it = gate(Wi,v2,bi)\n",
    "ot = gate(Wo,v2,bo)\n",
    "Ctildet = np.tanh(Wc@v2+bc)\n",
    "Ct = ft * np.array([0.05]) + it * Ctildet\n",
    "ht = ot * np.tanh(Ct)\n",
    "print(\"values of ft gate:\", ft)\n",
    "print(\"values of it gate:\", it)\n",
    "print(\"values of ot gate:\", ot)\n",
    "print(\"value of Ct is: \", Ct[0])\n",
    "print(\"value of new ht is: \",ht[0])"
   ]
  },
  {
   "cell_type": "markdown",
   "metadata": {
    "hidden": true
   },
   "source": [
    "$$h_{t-1} = [-0.03]$$\n",
    "$$x2 = [0,1,0]$$\n",
    "$$v_2 = [-0.03,0,1,0]$$\n",
    "$$f_t = 0.0066928509242848554 \\approx 0$$\n",
    "$$i_t = 0.9820137900379085 \\approx 1$$\n",
    "$$o_t = 0.01098694263059318 \\approx 0$$\n",
    "$$C_t = f_t \\odot C_{t-1} + i_t \\odot \\tilde{C_t} \\approx 0\\odot C_{t-1} + 1 \\odot  \\tilde{C_t} = 0.05$$\n",
    "\n",
    "$$h_t = o_t \\odot tanh(C_t) \\approx 0 \\odot tanh(C_t) = 0$$\n"
   ]
  },
  {
   "cell_type": "markdown",
   "metadata": {
    "hidden": true
   },
   "source": [
    "### (iii)"
   ]
  },
  {
   "cell_type": "code",
   "execution_count": null,
   "metadata": {
    "hidden": true
   },
   "outputs": [],
   "source": [
    "x3 = np.array([1,0,1])\n",
    "v3 = np.hstack((ht_1,x3))\n",
    "print(v3)\n",
    "ft = gate(Wf,v3,bf)\n",
    "it = gate(Wi,v3,bi)\n",
    "ot = gate(Wo,v3,bo)\n",
    "Ctildet = np.tanh(Wc@v3+bc)\n",
    "Ct = ft * np.array([0.05]) + it * Ctildet\n",
    "ht = ot * np.tanh(Ct)\n",
    "print(\"values of ft gate:\", ft)\n",
    "print(\"values of it gate:\", it)\n",
    "print(\"values of ot gate:\", ot)\n",
    "print(\"value of Ct is: \", Ct[0])\n",
    "print(\"value of new ht is: \",ht[0])"
   ]
  },
  {
   "cell_type": "markdown",
   "metadata": {
    "hidden": true
   },
   "source": [
    "$$h_{t-1} = [-0.03]$$\n",
    "$$x3 = [0,1,0]$$\n",
    "$$v_3 = [-0.03,1,0,1]$$\n",
    "$$f_t = 0.9933071490757153 \\approx 1$$\n",
    "$$i_t = 0.01798620996209156 \\approx 0$$\n",
    "$$o_t = 0.9890130573694068 \\approx 1$$\n",
    "$$C_t = f_t \\odot C_{t-1} + i_t \\odot \\tilde{C_t} \\approx 1 \\odot C_{t-1} + 0 \\odot  \\tilde{C_t} = 0.05$$\n",
    "\n",
    "$$h_t = o_t \\odot tanh(C_t) \\approx 1 \\odot tanh(C_t) = 0.049958375$$"
   ]
  },
  {
   "cell_type": "markdown",
   "metadata": {},
   "source": [
    "For i, ii and iii, the outputs from calculation and approximation are similiar.\n",
    "We see that the value of gate have an impact on new $C_t$ and $h_t$. If the gate is open( value are close to 1), the gate is closed, then the old values will be ignored.\n",
    "\n",
    "For example, if $f_t$ and/or $i_t$ is nearly zero, the $C_t$ will be independent of $C_{t-1}$ and/or  $\\tilde{C_t}$\n",
    "Similarly, if $o_t$ is zero, the $h_t$ will be independent of $C_t$ and will have a valuie of $0$.\n"
   ]
  },
  {
   "cell_type": "markdown",
   "metadata": {
    "hidden": true
   },
   "source": [
    "## (b)"
   ]
  },
  {
   "cell_type": "code",
   "execution_count": null,
   "metadata": {
    "hidden": true
   },
   "outputs": [],
   "source": [
    "# set x_t to be [1 1 0] reasons shown below\n",
    "xt = np.array([1,1,0])\n",
    "# let C_t-1 to be 0.04 this time and h_t-1 = [-0.03] as well\n",
    "vt = np.array([-0.03,1,1,0])\n",
    "ft = sigma(Wf @ vt + bf)\n",
    "it = sigma(Wi @ vt + bi)\n",
    "ot = sigma(Wo @ vt + bo)\n",
    "Ctildet = np.tanh(Wc @ vt + bc)\n",
    "Ct = ft * np.array([0.05]) + it * Ctildet\n",
    "ht = ot * np.tanh(Ct)\n",
    "gates = np.array([ft,it,ot])\n",
    "print(\"values of gates f_t, i_t and o_t are: \" + str(gates))\n",
    "print(\"calculated value of C_t is: \" + str(Ct[0]))\n",
    "print(\"value of new C_t is: \" + \"C_t-1 + h_t-1 = \" + str(0.05+(-0.03)))\n",
    "print(Ctildet)"
   ]
  },
  {
   "cell_type": "code",
   "execution_count": null,
   "metadata": {},
   "outputs": [],
   "source": [
    "x = np.array([1,1,0])\n",
    "v = np.hstack((ht_1,x))\n",
    "print(v)\n",
    "ft = gate(Wf,v,bf)\n",
    "it = gate(Wi,v,bi)\n",
    "ot = gate(Wo,v,bo)\n",
    "Ctildet = np.tanh(Wc @ v + bc)\n",
    "print(Ctildet)\n",
    "Ct = ft * np.array([0.05]) + it * Ctildet\n",
    "ht = ot * np.tanh(Ct)\n",
    "print(\"values of ft gate:\", ft)\n",
    "print(\"values of it gate:\", it)\n",
    "print(\"values of ot gate:\", ot)\n",
    "print(\"value of Ct is: \", Ct[0])\n",
    "print(\"value of new ht is: \",ht[0])\n",
    "print(\"value of new C_t is: C_t-1 + h_t-1 = \", str(0.05+(-0.03)))"
   ]
  },
  {
   "cell_type": "markdown",
   "metadata": {
    "hidden": true
   },
   "source": [
    "In order to approximate the sum of your old cell state and your hidden state, the gate should be open, which means the gate of $f_t$ and $i_t$ must be open. \n",
    "Therefore we can pick x to be [1,1,0] or [1,1,1]. Applying sigmoid function to large values will open the gate( $\\approx$ 1) and the gate will be 'open'. If the $f_t$ and $i_t$ have values close to 0, new cell keeps both the state of old cell and hidded state."
   ]
  },
  {
   "cell_type": "markdown",
   "metadata": {
    "hidden": true
   },
   "source": [
    "## (c)"
   ]
  },
  {
   "cell_type": "code",
   "execution_count": null,
   "metadata": {},
   "outputs": [],
   "source": [
    "x = np.array([1/2,1/2,0])\n",
    "v = np.hstack((ht_1,x))\n",
    "print(v)\n",
    "ft = gate(Wf,v,bf)\n",
    "it = gate(Wi,v,bi)\n",
    "ot = gate(Wo,v,bo)\n",
    "Ctildet = np.tanh(Wc @ v + bc)\n",
    "print(Ctildet)\n",
    "Ct = ft * np.array([0.05]) + it * Ctildet\n",
    "ht = ot * np.tanh(Ct)\n",
    "print(\"values of ft gate:\", ft)\n",
    "print(\"values of it gate:\", it)\n",
    "print(\"values of ot gate:\", ot)\n",
    "print(\"value of Ct is: \", Ct[0])\n",
    "print(\"value of new ht is: \",ht[0])\n",
    "print(\"value of new ht is : 1/2(C_t-1 + h_t-1) = \", 1/2*(0.05+(-0.03)))"
   ]
  },
  {
   "cell_type": "markdown",
   "metadata": {
    "hidden": true
   },
   "source": [
    "If we want the $h_t$ to be the average of previous cell state and input value of $h_{t-1}$, we want the value of $f_t$ and $i_t$ to be 0.5. \n",
    "We can derive from the equations, such as:\n",
    "$$h_t = o_t \\odot tanh(C_t) \\approx  o_t \\odot C_t $$\n",
    "$$h_t = o_t \\odot \\left(f_t \\odot C_{t-1} + i_t \\odot \\tilde{C_t} \\right)$$\n",
    "$$\\tilde{C_t} = tanh(W_Cv_t+b_C)$$\n",
    "therefore, \n",
    "$$ h_t= o_t \\odot \\left(f_t \\odot C_{t-1} + i_t \\odot (W_Cv_t+b_C)\\right)$$\n",
    "$$ h_t= o_t \\odot \\left(f_t \\odot C_{t-1} + i_t \\odot h_{t-1}\\right)$$\n",
    "\n"
   ]
  },
  {
   "cell_type": "markdown",
   "metadata": {},
   "source": [
    "$$f_t = 0.5 \\\\ i_t =0.5$$\n",
    "$$Sigmoid(W_f@V +b_f) == 0.5 \\\\ and \\\\ Sigmoid(W_i@V +b_i) == 0.5$$\n",
    "which is \n",
    "$$W_f@V +b_f == 0  \\\\ and \\\\W_i@V +b_i == 0$$\n",
    "Solve for V we need v to be [-0.03,1/2,1/2, some value]\n",
    "-0.03 is fixed because $h_{t-1} = -0.03$ and last value in v is not restrited by solving these equations."
   ]
  },
  {
   "cell_type": "code",
   "execution_count": null,
   "metadata": {},
   "outputs": [],
   "source": []
  }
 ],
 "metadata": {
  "kernelspec": {
   "display_name": "Python 3",
   "language": "python",
   "name": "python3"
  },
  "language_info": {
   "codemirror_mode": {
    "name": "ipython",
    "version": 3
   },
   "file_extension": ".py",
   "mimetype": "text/x-python",
   "name": "python",
   "nbconvert_exporter": "python",
   "pygments_lexer": "ipython3",
   "version": "3.8.2"
  }
 },
 "nbformat": 4,
 "nbformat_minor": 2
}
